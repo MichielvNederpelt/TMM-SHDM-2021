{
 "cells": [
  {
   "cell_type": "code",
   "execution_count": 29,
   "id": "ea6609d5-462a-4d93-bb27-e143d0128b7e",
   "metadata": {},
   "outputs": [],
   "source": [
    "import nltk "
   ]
  },
  {
   "cell_type": "code",
   "execution_count": 32,
   "id": "262e26de-382b-4449-ae07-8e45fb9e0695",
   "metadata": {},
   "outputs": [],
   "source": [
    "#train_df = pd.read_csv('../data/SEM_train_data.conll',sep=\"\\t\")  \n",
    "train_df = pd.read_csv('../data/SEM_dev_data.conll',sep=\"\\t\")  \n",
    "tokenlist = train_df['Token'].tolist()"
   ]
  },
  {
   "cell_type": "code",
   "execution_count": 33,
   "id": "7377a0cc-2c92-4343-9b33-c528e1741429",
   "metadata": {},
   "outputs": [
    {
     "name": "stdout",
     "output_type": "stream",
     "text": [
      "          Book  Sent nr  Token nr       Token Label    pretoken   nexttoken  \\\n",
      "0   wisteria01        0         0          1.     O       <BOD>         The   \n",
      "1   wisteria01        0         1         The     O          1.    Singular   \n",
      "2   wisteria01        0         2    Singular     O         The  Experience   \n",
      "3   wisteria01        0         3  Experience     O    Singular          of   \n",
      "4   wisteria01        0         4          of     O  Experience         Mr.   \n",
      "5   wisteria01        0         5         Mr.     O          of        John   \n",
      "6   wisteria01        0         6        John     O         Mr.       Scott   \n",
      "7   wisteria01        0         7       Scott     O        John      Eccles   \n",
      "8   wisteria01        0         8      Eccles     O       Scott           I   \n",
      "9   wisteria01        1         0           I     O      Eccles        find   \n",
      "10  wisteria01        1         1        find     O           I          it   \n",
      "11  wisteria01        1         2          it     O        find    recorded   \n",
      "12  wisteria01        1         3    recorded     O          it          in   \n",
      "13  wisteria01        1         4          in     O    recorded          my   \n",
      "14  wisteria01        1         5          my     O          in    notebook   \n",
      "15  wisteria01        1         6    notebook     O          my        that   \n",
      "16  wisteria01        1         7        that     O    notebook          it   \n",
      "17  wisteria01        1         8          it     O        that         was   \n",
      "18  wisteria01        1         9         was     O          it           a   \n",
      "19  wisteria01        1        10           a     O         was       bleak   \n",
      "\n",
      "     POS pre_pos next_pos  \n",
      "0     CD   <BOD>       DT  \n",
      "1     DT      CD       JJ  \n",
      "2     JJ      DT       NN  \n",
      "3     NN      JJ       IN  \n",
      "4     IN      NN      NNP  \n",
      "5    NNP      IN      NNP  \n",
      "6    NNP     NNP      NNP  \n",
      "7    NNP     NNP      NNP  \n",
      "8    NNP     NNP      PRP  \n",
      "9    PRP     NNP      VBP  \n",
      "10   VBP     PRP      PRP  \n",
      "11   PRP     VBP      VBD  \n",
      "12   VBD     PRP       IN  \n",
      "13    IN     VBD     PRP$  \n",
      "14  PRP$      IN       NN  \n",
      "15    NN    PRP$       IN  \n",
      "16    IN      NN      PRP  \n",
      "17   PRP      IN      VBD  \n",
      "18   VBD     PRP       DT  \n",
      "19    DT     VBD       JJ  \n"
     ]
    }
   ],
   "source": [
    "# create two lists for collecting previous token and next token\n",
    "pretoken = []\n",
    "nexttoken = []\n",
    "\n",
    "# most of the code below is from Desiree\n",
    "# loop over token list, extract previous and nest token\n",
    "i = 0\n",
    "for token in tokenlist:\n",
    "    if i == 0:\n",
    "        pretoken.append('<BOD>')\n",
    "        nexttoken.append(tokenlist[i+1])\n",
    "    elif i == len(tokenlist) - 1:\n",
    "        pretoken.append(tokenlist[i-1])\n",
    "        nexttoken.append('<EOD>')                \n",
    "    else:\n",
    "        pretoken.append(tokenlist[i-1])\n",
    "        nexttoken.append(tokenlist[i+1])\n",
    "    i += 1   \n",
    "\n",
    "train_df['pretoken'] = pretoken\n",
    "train_df['nexttoken'] = nexttoken\n",
    "\n",
    "# use nltk to get pos and tag pairs, extract tag in a list\n",
    "d = []\n",
    "postag=nltk.pos_tag(tokenlist)\n",
    "for token,tag in postag:\n",
    "    d.append(tag)\n",
    "    \n",
    "train_df['POS']=d\n",
    "\n",
    "#create two lists for collecting previous tag and next tag\n",
    "poslist = train_df['POS']\n",
    "pre_pos = []\n",
    "next_pos = []\n",
    "\n",
    "# loop over tag list, extract previous and nest tag\n",
    "i = 0\n",
    "for pos in poslist:\n",
    "    if i == 0:\n",
    "        pre_pos.append('<BOD>')\n",
    "        next_pos.append(poslist[i+1])\n",
    "    elif i == len(tokenlist) - 1:\n",
    "        pre_pos.append(poslist[i-1])\n",
    "        next_pos.append('<EOD>')                \n",
    "    else:\n",
    "        pre_pos.append(poslist[i-1])\n",
    "        next_pos.append(poslist[i+1])\n",
    "    i += 1   \n",
    "\n",
    "train_df['pre_pos'] = pre_pos\n",
    "train_df['next_pos'] = next_pos\n",
    "\n",
    "#print the first 20 rows\n",
    "print(train_df.head(20))\n"
   ]
  },
  {
   "cell_type": "code",
   "execution_count": null,
   "id": "1b5f41fe-e6d1-4aed-abfb-400df51e0297",
   "metadata": {},
   "outputs": [],
   "source": []
  },
  {
   "cell_type": "code",
   "execution_count": null,
   "id": "7d6738c7-712b-4cd2-be7a-e0362e3f9300",
   "metadata": {},
   "outputs": [],
   "source": []
  },
  {
   "cell_type": "code",
   "execution_count": null,
   "id": "ab858d8f-ff9f-4be6-867c-8917cb108bd7",
   "metadata": {},
   "outputs": [],
   "source": []
  }
 ],
 "metadata": {
  "kernelspec": {
   "display_name": "Python 3",
   "language": "python",
   "name": "python3"
  },
  "language_info": {
   "codemirror_mode": {
    "name": "ipython",
    "version": 3
   },
   "file_extension": ".py",
   "mimetype": "text/x-python",
   "name": "python",
   "nbconvert_exporter": "python",
   "pygments_lexer": "ipython3",
   "version": "3.8.8"
  }
 },
 "nbformat": 4,
 "nbformat_minor": 5
}
